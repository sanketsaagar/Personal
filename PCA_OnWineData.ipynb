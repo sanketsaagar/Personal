{
 "cells": [
  {
   "cell_type": "code",
   "execution_count": null,
   "id": "ece5dd32",
   "metadata": {},
   "outputs": [],
   "source": []
  },
  {
   "cell_type": "code",
   "execution_count": 1,
   "id": "5c960b3e",
   "metadata": {},
   "outputs": [
    {
     "data": {
      "text/html": [
       "<div>\n",
       "<style scoped>\n",
       "    .dataframe tbody tr th:only-of-type {\n",
       "        vertical-align: middle;\n",
       "    }\n",
       "\n",
       "    .dataframe tbody tr th {\n",
       "        vertical-align: top;\n",
       "    }\n",
       "\n",
       "    .dataframe thead th {\n",
       "        text-align: right;\n",
       "    }\n",
       "</style>\n",
       "<table border=\"1\" class=\"dataframe\">\n",
       "  <thead>\n",
       "    <tr style=\"text-align: right;\">\n",
       "      <th></th>\n",
       "      <th>1</th>\n",
       "      <th>14.23</th>\n",
       "      <th>1.71</th>\n",
       "      <th>2.43</th>\n",
       "      <th>15.6</th>\n",
       "      <th>127</th>\n",
       "      <th>2.8</th>\n",
       "      <th>3.06</th>\n",
       "      <th>.28</th>\n",
       "      <th>2.29</th>\n",
       "      <th>5.64</th>\n",
       "      <th>1.04</th>\n",
       "      <th>3.92</th>\n",
       "      <th>1065</th>\n",
       "    </tr>\n",
       "  </thead>\n",
       "  <tbody>\n",
       "    <tr>\n",
       "      <th>0</th>\n",
       "      <td>1</td>\n",
       "      <td>13.20</td>\n",
       "      <td>1.78</td>\n",
       "      <td>2.14</td>\n",
       "      <td>11.2</td>\n",
       "      <td>100</td>\n",
       "      <td>2.65</td>\n",
       "      <td>2.76</td>\n",
       "      <td>0.26</td>\n",
       "      <td>1.28</td>\n",
       "      <td>4.38</td>\n",
       "      <td>1.05</td>\n",
       "      <td>3.40</td>\n",
       "      <td>1050</td>\n",
       "    </tr>\n",
       "    <tr>\n",
       "      <th>1</th>\n",
       "      <td>1</td>\n",
       "      <td>13.16</td>\n",
       "      <td>2.36</td>\n",
       "      <td>2.67</td>\n",
       "      <td>18.6</td>\n",
       "      <td>101</td>\n",
       "      <td>2.80</td>\n",
       "      <td>3.24</td>\n",
       "      <td>0.30</td>\n",
       "      <td>2.81</td>\n",
       "      <td>5.68</td>\n",
       "      <td>1.03</td>\n",
       "      <td>3.17</td>\n",
       "      <td>1185</td>\n",
       "    </tr>\n",
       "    <tr>\n",
       "      <th>2</th>\n",
       "      <td>1</td>\n",
       "      <td>14.37</td>\n",
       "      <td>1.95</td>\n",
       "      <td>2.50</td>\n",
       "      <td>16.8</td>\n",
       "      <td>113</td>\n",
       "      <td>3.85</td>\n",
       "      <td>3.49</td>\n",
       "      <td>0.24</td>\n",
       "      <td>2.18</td>\n",
       "      <td>7.80</td>\n",
       "      <td>0.86</td>\n",
       "      <td>3.45</td>\n",
       "      <td>1480</td>\n",
       "    </tr>\n",
       "    <tr>\n",
       "      <th>3</th>\n",
       "      <td>1</td>\n",
       "      <td>13.24</td>\n",
       "      <td>2.59</td>\n",
       "      <td>2.87</td>\n",
       "      <td>21.0</td>\n",
       "      <td>118</td>\n",
       "      <td>2.80</td>\n",
       "      <td>2.69</td>\n",
       "      <td>0.39</td>\n",
       "      <td>1.82</td>\n",
       "      <td>4.32</td>\n",
       "      <td>1.04</td>\n",
       "      <td>2.93</td>\n",
       "      <td>735</td>\n",
       "    </tr>\n",
       "    <tr>\n",
       "      <th>4</th>\n",
       "      <td>1</td>\n",
       "      <td>14.20</td>\n",
       "      <td>1.76</td>\n",
       "      <td>2.45</td>\n",
       "      <td>15.2</td>\n",
       "      <td>112</td>\n",
       "      <td>3.27</td>\n",
       "      <td>3.39</td>\n",
       "      <td>0.34</td>\n",
       "      <td>1.97</td>\n",
       "      <td>6.75</td>\n",
       "      <td>1.05</td>\n",
       "      <td>2.85</td>\n",
       "      <td>1450</td>\n",
       "    </tr>\n",
       "  </tbody>\n",
       "</table>\n",
       "</div>"
      ],
      "text/plain": [
       "   1  14.23  1.71  2.43  15.6  127   2.8  3.06   .28  2.29  5.64  1.04  3.92  \\\n",
       "0  1  13.20  1.78  2.14  11.2  100  2.65  2.76  0.26  1.28  4.38  1.05  3.40   \n",
       "1  1  13.16  2.36  2.67  18.6  101  2.80  3.24  0.30  2.81  5.68  1.03  3.17   \n",
       "2  1  14.37  1.95  2.50  16.8  113  3.85  3.49  0.24  2.18  7.80  0.86  3.45   \n",
       "3  1  13.24  2.59  2.87  21.0  118  2.80  2.69  0.39  1.82  4.32  1.04  2.93   \n",
       "4  1  14.20  1.76  2.45  15.2  112  3.27  3.39  0.34  1.97  6.75  1.05  2.85   \n",
       "\n",
       "   1065  \n",
       "0  1050  \n",
       "1  1185  \n",
       "2  1480  \n",
       "3   735  \n",
       "4  1450  "
      ]
     },
     "execution_count": 1,
     "metadata": {},
     "output_type": "execute_result"
    }
   ],
   "source": [
    "import pandas as pd\n",
    "import numpy as np\n",
    "import warnings\n",
    "import matplotlib.pyplot as plt\n",
    "import seaborn as sns\n",
    "from numpy import linalg as LA\n",
    "import statistics\n",
    "sns.set()\n",
    "data = \"wine.data\"\n",
    "df = pd.read_csv(data)\n",
    "df.head()"
   ]
  },
  {
   "cell_type": "code",
   "execution_count": 2,
   "id": "a043d8b8",
   "metadata": {},
   "outputs": [
    {
     "name": "stdout",
     "output_type": "stream",
     "text": [
      "Mean of Data : 1          1.943503\n",
      "14.23     12.993672\n",
      "1.71       2.339887\n",
      "2.43       2.366158\n",
      "15.6      19.516949\n",
      "127       99.587571\n",
      "2.8        2.292260\n",
      "3.06       2.023446\n",
      ".28        0.362316\n",
      "2.29       1.586949\n",
      "5.64       5.054802\n",
      "1.04       0.956983\n",
      "3.92       2.604294\n",
      "1065     745.096045\n",
      "dtype: float64\n"
     ]
    }
   ],
   "source": [
    "mean = df.mean()\n",
    "print(\"Mean of Data :\",mean)"
   ]
  },
  {
   "cell_type": "code",
   "execution_count": 3,
   "id": "336215b0",
   "metadata": {},
   "outputs": [
    {
     "name": "stdout",
     "output_type": "stream",
     "text": [
      "Variance of Data : 39077.102837637845\n"
     ]
    }
   ],
   "source": [
    "var = statistics.variance(mean)\n",
    "print(\"Variance of Data :\",var)"
   ]
  },
  {
   "cell_type": "code",
   "execution_count": 4,
   "id": "1ee35257",
   "metadata": {},
   "outputs": [
    {
     "name": "stdout",
     "output_type": "stream",
     "text": [
      "<class 'pandas.core.frame.DataFrame'>\n",
      "RangeIndex: 177 entries, 0 to 176\n",
      "Data columns (total 14 columns):\n",
      " #   Column  Non-Null Count  Dtype  \n",
      "---  ------  --------------  -----  \n",
      " 0   1       177 non-null    int64  \n",
      " 1   14.23   177 non-null    float64\n",
      " 2   1.71    177 non-null    float64\n",
      " 3   2.43    177 non-null    float64\n",
      " 4   15.6    177 non-null    float64\n",
      " 5   127     177 non-null    int64  \n",
      " 6   2.8     177 non-null    float64\n",
      " 7   3.06    177 non-null    float64\n",
      " 8   .28     177 non-null    float64\n",
      " 9   2.29    177 non-null    float64\n",
      " 10  5.64    177 non-null    float64\n",
      " 11  1.04    177 non-null    float64\n",
      " 12  3.92    177 non-null    float64\n",
      " 13  1065    177 non-null    int64  \n",
      "dtypes: float64(11), int64(3)\n",
      "memory usage: 19.5 KB\n"
     ]
    }
   ],
   "source": [
    "df.info()"
   ]
  },
  {
   "cell_type": "code",
   "execution_count": 6,
   "id": "39a0c897",
   "metadata": {},
   "outputs": [
    {
     "data": {
      "text/plain": [
       "(177, 14)"
      ]
     },
     "execution_count": 6,
     "metadata": {},
     "output_type": "execute_result"
    }
   ],
   "source": [
    "df.shape"
   ]
  },
  {
   "cell_type": "code",
   "execution_count": 9,
   "id": "e8a91cd0",
   "metadata": {},
   "outputs": [
    {
     "name": "stdout",
     "output_type": "stream",
     "text": [
      "\n",
      "Covaraince Matrix:\n",
      " [[ 5.99062661e-01 -2.01098164e-01  3.77834489e-01 -1.02751027e-02\n",
      "   1.32709938e+00 -2.18252440e+00 -3.48110234e-01 -6.54292822e-01\n",
      "   4.70066127e-02 -2.18923344e-01  4.83170577e-01 -1.09546418e-01\n",
      "  -4.29187853e-01 -1.53841134e+02]\n",
      " [-2.01098164e-01  6.54171097e-01  9.04975764e-02  4.69369158e-02\n",
      "  -8.18511460e-01  2.96623909e+00  1.44175177e-01  1.85883863e-01\n",
      "  -1.52687821e-02  5.89675173e-02  1.03003738e+00 -1.39689715e-02\n",
      "   3.27443695e-02  1.63267657e+02]\n",
      " [ 3.77834489e-01  9.04975764e-02  1.25286476e+00  5.07899043e-02\n",
      "   1.06850761e+00 -7.78171867e-01 -2.33862243e-01 -4.57547336e-01\n",
      "   4.06718541e-02 -1.39446938e-01  6.50584636e-01 -1.43844547e-01\n",
      "  -2.89426785e-01 -6.67941936e+01]\n",
      " [-1.02751027e-02  4.69369158e-02  5.07899043e-02  7.56692476e-02\n",
      "   4.09929122e-01  1.11942925e+00  2.20882768e-02  3.13400199e-02\n",
      "   6.42429058e-03  1.27059900e-03  1.65378782e-01 -4.73870185e-03\n",
      "   2.91589625e-04  1.93141211e+01]\n",
      " [ 1.32709938e+00 -8.18511460e-01  1.06850761e+00  4.09929122e-01\n",
      "   1.11293702e+01 -3.39069723e+00 -6.63726021e-01 -1.15580306e+00\n",
      "   1.49454834e-01 -3.63760497e-01  1.58798825e-01 -2.08469029e-01\n",
      "  -6.30845917e-01 -4.58908455e+02]\n",
      " [-2.18252440e+00  2.96623909e+00 -7.78171867e-01  1.11942925e+00\n",
      "  -3.39069723e+00  2.00902799e+02  1.84872143e+00  2.64841808e+00\n",
      "  -4.45402863e-01  1.83492777e+00  6.56750329e+00  1.69021379e-01\n",
      "   4.69337763e-01  1.72966484e+03]\n",
      " [-3.48110234e-01  1.44175177e-01 -2.33862243e-01  2.20882768e-02\n",
      "  -6.63726021e-01  1.84872143e+00  3.92458500e-01  5.40567736e-01\n",
      "  -3.50081054e-02  2.18602956e-01 -8.21307955e-02  6.21532203e-02\n",
      "   3.09014105e-01  9.78111454e+01]\n",
      " [-6.54292822e-01  1.85883863e-01 -4.57547336e-01  3.13400199e-02\n",
      "  -1.15580306e+00  2.64841808e+00  5.40567736e-01  9.97317033e-01\n",
      "  -6.67648466e-02  3.71150347e-01 -4.04863795e-01  1.24300797e-01\n",
      "   5.53728868e-01  1.54457224e+02]\n",
      " [ 4.70066127e-02 -1.52687821e-02  4.06718541e-02  6.42429058e-03\n",
      "   1.49454834e-01 -4.45402863e-01 -3.50081054e-02 -6.67648466e-02\n",
      "   1.55383539e-02 -2.58809611e-02  4.06206304e-02 -7.47501733e-03\n",
      "  -4.41100026e-02 -1.21241442e+01]\n",
      " [-2.18923344e-01  5.89675173e-02 -1.39446938e-01  1.27059900e-03\n",
      "  -3.63760497e-01  1.83492777e+00  2.18602956e-01  3.71150347e-01\n",
      "  -2.58809611e-02  3.26663367e-01 -3.60187831e-02  3.85544935e-02\n",
      "   2.06905220e-01  5.86219992e+01]\n",
      " [ 4.83170577e-01  1.03003738e+00  6.50584636e-01  1.65378782e-01\n",
      "   1.58798825e-01  6.56750329e+00 -8.21307955e-02 -4.04863795e-01\n",
      "   4.06206304e-02 -3.60187831e-02  5.40305118e+00 -2.78351336e-01\n",
      "  -7.14173004e-01  2.31020958e+02]\n",
      " [-1.09546418e-01 -1.39689715e-02 -1.43844547e-01 -4.73870185e-03\n",
      "  -2.08469029e-01  1.69021379e-01  6.21532203e-02  1.24300797e-01\n",
      "  -7.47501733e-03  3.85544935e-02 -2.78351336e-01  5.25028690e-02\n",
      "   9.16705277e-02  1.69467687e+01]\n",
      " [-4.29187853e-01  3.27443695e-02 -2.89426785e-01  2.91589625e-04\n",
      "  -6.30845917e-01  4.69337763e-01  3.09014105e-01  5.53728868e-01\n",
      "  -4.41100026e-02  2.06905220e-01 -7.14173004e-01  9.16705277e-02\n",
      "   4.97170095e-01  6.79468012e+01]\n",
      " [-1.53841134e+02  1.63267657e+02 -6.67941936e+01  1.93141211e+01\n",
      "  -4.58908455e+02  1.72966484e+03  9.78111454e+01  1.54457224e+02\n",
      "  -1.21241442e+01  5.86219992e+01  2.31020958e+02  1.69467687e+01\n",
      "   6.79468012e+01  9.91519623e+04]]\n"
     ]
    }
   ],
   "source": [
    "print(\"\\nCovaraince Matrix:\\n\",df.cov().to_numpy())"
   ]
  },
  {
   "cell_type": "code",
   "execution_count": 10,
   "id": "961c7c97",
   "metadata": {},
   "outputs": [
    {
     "name": "stdout",
     "output_type": "stream",
     "text": [
      "Eigen Values: [9.91858285e+04 1.70863581e+02 9.52691833e+00 5.12939227e+00\n",
      " 1.28979701e+00 8.71509588e-01 2.86616079e-01 1.55908935e-01\n",
      " 1.11652291e-01 8.67856906e-02 4.63443518e-02 3.49478963e-02\n",
      " 8.08932905e-03 2.08789626e-02]\n",
      "Eigen Vector: [[-1.55124279e-03  3.15432737e-03  1.00574347e-01  1.47625764e-01\n",
      "  -2.18412277e-01 -1.69910339e-01  1.81882850e-01 -1.90301270e-01\n",
      "   1.83725083e-01 -5.05206494e-01 -6.18184118e-01 -3.73582735e-01\n",
      "  -4.92346636e-02 -9.52967175e-02]\n",
      " [ 1.64640028e-03  7.17665214e-04  1.98658968e-02  1.36740183e-01\n",
      "   4.54191610e-02  1.99462327e-01 -8.89824814e-01 -3.55581980e-01\n",
      "   8.70657490e-02 -5.82035062e-02 -9.04106692e-02 -3.80491362e-02\n",
      "  -1.47971477e-02  4.52820016e-03]\n",
      " [-6.73506707e-04  2.50539607e-03  1.24480733e-01  1.56650736e-01\n",
      "  -5.32963552e-01  8.01427101e-01  1.45121435e-01  7.56922538e-02\n",
      "   1.18356188e-02  3.40264652e-02  7.68956818e-03  3.62207567e-02\n",
      "   1.24533186e-02 -6.33184712e-02]\n",
      " [ 1.94876719e-04  4.67124259e-03  5.14104489e-02 -1.21258683e-02\n",
      "   2.54347275e-02  4.16718311e-02 -5.12644298e-02  1.49492275e-01\n",
      "   7.33458673e-02  1.09736028e-01  3.65437109e-01 -8.86300267e-01\n",
      "   1.60295381e-01  8.74068390e-02]\n",
      " [-4.62714846e-03  2.87367564e-02  9.27759647e-01 -3.58018196e-01\n",
      "   6.80259230e-02 -2.46548594e-02 -3.49569878e-02 -1.12920342e-02\n",
      "  -2.63161058e-03  9.91341710e-03 -3.26299555e-03  5.94709113e-02\n",
      "   3.75514491e-04 -3.60064402e-04]\n",
      " [ 1.74715140e-02  9.99274600e-01 -3.24177949e-02 -4.52376017e-03\n",
      "  -5.85580500e-03 -9.79285894e-04 -2.49940721e-03  3.43717693e-03\n",
      "  -2.09486797e-03 -9.86436678e-04 -1.79298750e-03  2.45545158e-03\n",
      "  -2.34228607e-03 -4.90417942e-04]\n",
      " [ 9.86351833e-04  7.44756954e-04 -4.26507697e-02 -7.64510121e-02\n",
      "   3.20024797e-01  2.31354866e-01  5.89825040e-02  8.32657633e-02\n",
      "   3.73598266e-01 -7.14237228e-01  3.92896304e-01  1.42200204e-01\n",
      "   3.65699606e-02  1.85825519e-02]\n",
      " [ 1.55753943e-03 -4.56932866e-04 -8.97401456e-02 -1.72228925e-01\n",
      "   5.34986549e-01  3.61917875e-01  7.12395853e-02  1.97390254e-01\n",
      "   3.86688610e-01  3.27123971e-01 -4.79875811e-01 -8.22715652e-02\n",
      "  -8.63742760e-02  1.70782440e-04]\n",
      " [-1.22303371e-04 -1.34228446e-03  1.37799589e-02  1.05730799e-02\n",
      "  -2.94065852e-02 -1.73176298e-02  7.29513731e-04 -9.37720044e-04\n",
      "   3.14356331e-02  1.89590438e-02  1.78740698e-01 -1.10638050e-01\n",
      "  -9.67024390e-01 -1.33632392e-01]\n",
      " [ 5.91287116e-04  4.70862302e-03 -2.55915634e-02 -5.16997964e-02\n",
      "   2.52702950e-01  1.98636609e-01  3.56494595e-01 -8.43989877e-01\n",
      "  -1.36334273e-01  1.00278835e-01  1.30765378e-01 -8.72402994e-02\n",
      "   1.84902919e-02  1.52271717e-02]\n",
      " [ 2.33004374e-03  1.54997593e-02  3.04670027e-01  8.56085300e-01\n",
      "   3.67189861e-01 -3.52489799e-03  9.31691603e-02  1.10554386e-01\n",
      "  -1.09628847e-01  4.26060391e-02  3.46457644e-02  3.73762347e-02\n",
      "   7.82247107e-03 -4.25748394e-02]\n",
      " [ 1.70868495e-04 -7.99499499e-04 -2.70967693e-02 -5.90209037e-02\n",
      "   4.62791958e-02 -3.00018776e-02 -3.05873243e-02  1.68154940e-03\n",
      "   2.39776743e-02  5.18949512e-02  8.24570820e-02 -2.51857906e-02\n",
      "   1.53223833e-01 -9.78581774e-01]\n",
      " [ 6.85049512e-04 -4.34883705e-03 -7.25697170e-02 -1.78768918e-01\n",
      "   2.65606453e-01  2.48061347e-01 -7.03809224e-02  1.96695965e-01\n",
      "  -7.94897001e-01 -3.09856416e-01 -1.85367583e-01 -1.40473528e-01\n",
      "  -6.07206134e-02 -3.71314665e-02]\n",
      " [ 9.99829003e-01 -1.73603213e-02  4.60029325e-03 -2.95297099e-03\n",
      "  -2.70825291e-03 -1.22556571e-03  1.19351934e-03 -8.35205513e-05\n",
      "   6.93326930e-05 -3.81167665e-04 -5.23396649e-04 -4.81062010e-05\n",
      "  -6.57678539e-05  3.98512066e-05]]\n"
     ]
    }
   ],
   "source": [
    "values, vectors = LA.eig(df.cov().to_numpy())\n",
    "print(\"Eigen Values:\",values)\n",
    "print(\"Eigen Vector:\",vectors)"
   ]
  },
  {
   "cell_type": "code",
   "execution_count": 11,
   "id": "606488dd",
   "metadata": {},
   "outputs": [
    {
     "data": {
      "text/plain": [
       "[0.9981038105889973,\n",
       " 0.001719394730357114,\n",
       " 9.586907348499993e-05,\n",
       " 5.1616909903719735e-05,\n",
       " 1.2979185897887669e-05,\n",
       " 8.769973028576735e-06,\n",
       " 2.8842084090845396e-06,\n",
       " 1.5689066070978995e-06,\n",
       " 1.1235534180764773e-06,\n",
       " 8.733216207287384e-07,\n",
       " 4.6636172566494343e-07,\n",
       " 3.516795597961382e-07,\n",
       " 2.1010433114196224e-07,\n",
       " 8.140265876223424e-08]"
      ]
     },
     "execution_count": 11,
     "metadata": {},
     "output_type": "execute_result"
    }
   ],
   "source": [
    "total_values = sum(values)\n",
    "var_exp = [(i/total_values) for i in sorted(values, reverse=True)]\n",
    "var_exp"
   ]
  },
  {
   "cell_type": "code",
   "execution_count": 12,
   "id": "eead92c9",
   "metadata": {},
   "outputs": [
    {
     "data": {
      "image/png": "[encoded data removed]",
      "text/plain": [
       "<Figure size 432x288 with 1 Axes>"
      ]
     },
     "metadata": {},
     "output_type": "display_data"
    }
   ],
   "source": [
    "plt.bar(range(0,len(var_exp)), var_exp)\n",
    "plt.ylabel('Variance Ratio')\n",
    "plt.xlabel('Principal component analysis')\n",
    "plt.show()"
   ]
  },
  {
   "cell_type": "code",
   "execution_count": null,
   "id": "c1a25f21",
   "metadata": {},
   "outputs": [],
   "source": []
  }
 ],
 "metadata": {
  "kernelspec": {
   "display_name": "Python 3 (ipykernel)",
   "language": "python",
   "name": "python3"
  },
  "language_info": {
   "codemirror_mode": {
    "name": "ipython",
    "version": 3
   },
   "file_extension": ".py",
   "mimetype": "text/x-python",
   "name": "python",
   "nbconvert_exporter": "python",
   "pygments_lexer": "ipython3",
   "version": "3.8.8"
  }
 },
 "nbformat": 4,
 "nbformat_minor": 5
}
