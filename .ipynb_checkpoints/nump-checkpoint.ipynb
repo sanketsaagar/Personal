{
 "cells": [
  {
   "cell_type": "code",
   "execution_count": 30,
   "id": "f9ca2a60-6b8c-414f-9839-c1ae58adb33b",
   "metadata": {},
   "outputs": [
    {
     "name": "stdout",
     "output_type": "stream",
     "text": [
      "[1 2 3 4]\n",
      "<class 'numpy.ndarray'>\n",
      "1\n",
      "[10  6 10 10]\n",
      "4\n",
      "4\n",
      "6\n",
      "The dimension of array is 2\n",
      "[[81 10  3  7 50]\n",
      " [15  3  9  9 18]]\n",
      "[[ 0  1  2  3  4]\n",
      " [ 5  6  7  8  9]\n",
      " [10 11 12 13 14]\n",
      " [15 16 17 18 19]]\n",
      "<class 'numpy.ndarray'>\n",
      "20\n",
      "[[0. 0. 0. 0. 0.]\n",
      " [0. 0. 0. 0. 0.]\n",
      " [0. 0. 0. 0. 0.]\n",
      " [0. 0. 0. 0. 0.]]\n"
     ]
    }
   ],
   "source": [
    "import numpy as np;\n",
    "arr = np.array([1,2,3,4])\n",
    "b = ([9,4,7,6])\n",
    "print(arr) # printing the array\n",
    "print(type(arr)) #checking the type of array\n",
    "print(arr.ndim) #checking dimension of the array\n",
    "print(arr+b) # adding 2 array\n",
    "print(arr[3]) # accessing element in array\n",
    "print(arr.max()) #checking the maximum value \n",
    "\n",
    "arr1 = np.array([[76,1,2,3,45],[8,2,4,6,9]])\n",
    "arr2 = np.array([[5,9,1,4,5], [7,1,5,3,9]])\n",
    "print(arr1[1,3]) # accessing element in 2d array\n",
    "\n",
    "print('The dimension of array is',arr1.ndim)\n",
    "arr3 = arr1+arr2\n",
    "print(arr3)\n",
    "\n",
    "a = np.arange(20).reshape(4,5)\n",
    "print(a) \n",
    "print(type(a))\n",
    "print(a.size)\n",
    "c= np.zeros((4,5))\n",
    "print(c)"
   ]
  },
  {
   "cell_type": "code",
   "execution_count": null,
   "id": "7e023f2a-4782-4250-bd5d-6b31589f625d",
   "metadata": {},
   "outputs": [],
   "source": []
  },
  {
   "cell_type": "code",
   "execution_count": null,
   "id": "40ff5be4-c24c-44de-8bce-b0cd0ab4ce38",
   "metadata": {},
   "outputs": [],
   "source": []
  }
 ],
 "metadata": {
  "kernelspec": {
   "display_name": "Python 3.10.2 64-bit",
   "language": "python",
   "name": "python3"
  },
  "language_info": {
   "codemirror_mode": {
    "name": "ipython",
    "version": 3
   },
   "file_extension": ".py",
   "mimetype": "text/x-python",
   "name": "python",
   "nbconvert_exporter": "python",
   "pygments_lexer": "ipython3",
   "version": "3.10.2"
  },
  "vscode": {
   "interpreter": {
    "hash": "aee8b7b246df8f9039afb4144a1f6fd8d2ca17a180786b69acc140d282b71a49"
   }
  }
 },
 "nbformat": 4,
 "nbformat_minor": 5
}
