{
 "cells": [
  {
   "cell_type": "code",
   "execution_count": 4,
   "id": "c9ebc2ea",
   "metadata": {},
   "outputs": [
    {
     "name": "stdout",
     "output_type": "stream",
     "text": [
      "Collecting efficient-apriori\n",
      "  Downloading efficient_apriori-2.0.3-py3-none-any.whl (14 kB)\n",
      "Installing collected packages: efficient-apriori\n",
      "Successfully installed efficient-apriori-2.0.3\n",
      "Note: you may need to restart the kernel to use updated packages.\n"
     ]
    }
   ],
   "source": [
    "pip install efficient-apriori"
   ]
  },
  {
   "cell_type": "code",
   "execution_count": 2,
   "id": "0b3575b5",
   "metadata": {},
   "outputs": [
    {
     "ename": "TypeError",
     "evalue": "'int' object is not iterable",
     "output_type": "error",
     "traceback": [
      "\u001b[0;31m---------------------------------------------------------------------------\u001b[0m",
      "\u001b[0;31mTypeError\u001b[0m                                 Traceback (most recent call last)",
      "\u001b[0;32m/var/folders/9t/0ph9h2xj64b9d7c_41_172fm0000gn/T/ipykernel_41702/2877326634.py\u001b[0m in \u001b[0;36m<module>\u001b[0;34m\u001b[0m\n\u001b[1;32m      1\u001b[0m \u001b[0;31m# Convert the dataset into a one-hot encoded format\u001b[0m\u001b[0;34m\u001b[0m\u001b[0;34m\u001b[0m\u001b[0;34m\u001b[0m\u001b[0m\n\u001b[1;32m      2\u001b[0m \u001b[0mte\u001b[0m \u001b[0;34m=\u001b[0m \u001b[0mTransactionEncoder\u001b[0m\u001b[0;34m(\u001b[0m\u001b[0;34m)\u001b[0m\u001b[0;34m\u001b[0m\u001b[0;34m\u001b[0m\u001b[0m\n\u001b[0;32m----> 3\u001b[0;31m \u001b[0mte_ary\u001b[0m \u001b[0;34m=\u001b[0m \u001b[0mte\u001b[0m\u001b[0;34m.\u001b[0m\u001b[0mfit\u001b[0m\u001b[0;34m(\u001b[0m\u001b[0mgroceries\u001b[0m\u001b[0;34m)\u001b[0m\u001b[0;34m.\u001b[0m\u001b[0mtransform\u001b[0m\u001b[0;34m(\u001b[0m\u001b[0mgroceries\u001b[0m\u001b[0;34m)\u001b[0m\u001b[0;34m\u001b[0m\u001b[0;34m\u001b[0m\u001b[0m\n\u001b[0m\u001b[1;32m      4\u001b[0m \u001b[0mone_hot_df\u001b[0m \u001b[0;34m=\u001b[0m \u001b[0mpd\u001b[0m\u001b[0;34m.\u001b[0m\u001b[0mDataFrame\u001b[0m\u001b[0;34m(\u001b[0m\u001b[0mte_ary\u001b[0m\u001b[0;34m,\u001b[0m \u001b[0mcolumns\u001b[0m\u001b[0;34m=\u001b[0m\u001b[0mte\u001b[0m\u001b[0;34m.\u001b[0m\u001b[0mcolumns_\u001b[0m\u001b[0;34m)\u001b[0m\u001b[0;34m\u001b[0m\u001b[0;34m\u001b[0m\u001b[0m\n\u001b[1;32m      5\u001b[0m \u001b[0mone_hot_df\u001b[0m\u001b[0;34m.\u001b[0m\u001b[0mhead\u001b[0m\u001b[0;34m(\u001b[0m\u001b[0;34m)\u001b[0m\u001b[0;34m\u001b[0m\u001b[0;34m\u001b[0m\u001b[0m\n",
      "\u001b[0;32m~/opt/anaconda3/lib/python3.8/site-packages/mlxtend/preprocessing/transactionencoder.py\u001b[0m in \u001b[0;36mfit\u001b[0;34m(self, X)\u001b[0m\n\u001b[1;32m     55\u001b[0m         \u001b[0munique_items\u001b[0m \u001b[0;34m=\u001b[0m \u001b[0mset\u001b[0m\u001b[0;34m(\u001b[0m\u001b[0;34m)\u001b[0m\u001b[0;34m\u001b[0m\u001b[0;34m\u001b[0m\u001b[0m\n\u001b[1;32m     56\u001b[0m         \u001b[0;32mfor\u001b[0m \u001b[0mtransaction\u001b[0m \u001b[0;32min\u001b[0m \u001b[0mX\u001b[0m\u001b[0;34m:\u001b[0m\u001b[0;34m\u001b[0m\u001b[0;34m\u001b[0m\u001b[0m\n\u001b[0;32m---> 57\u001b[0;31m             \u001b[0;32mfor\u001b[0m \u001b[0mitem\u001b[0m \u001b[0;32min\u001b[0m \u001b[0mtransaction\u001b[0m\u001b[0;34m:\u001b[0m\u001b[0;34m\u001b[0m\u001b[0;34m\u001b[0m\u001b[0m\n\u001b[0m\u001b[1;32m     58\u001b[0m                 \u001b[0munique_items\u001b[0m\u001b[0;34m.\u001b[0m\u001b[0madd\u001b[0m\u001b[0;34m(\u001b[0m\u001b[0mitem\u001b[0m\u001b[0;34m)\u001b[0m\u001b[0;34m\u001b[0m\u001b[0;34m\u001b[0m\u001b[0m\n\u001b[1;32m     59\u001b[0m         \u001b[0mself\u001b[0m\u001b[0;34m.\u001b[0m\u001b[0mcolumns_\u001b[0m \u001b[0;34m=\u001b[0m \u001b[0msorted\u001b[0m\u001b[0;34m(\u001b[0m\u001b[0munique_items\u001b[0m\u001b[0;34m)\u001b[0m\u001b[0;34m\u001b[0m\u001b[0;34m\u001b[0m\u001b[0m\n",
      "\u001b[0;31mTypeError\u001b[0m: 'int' object is not iterable"
     ]
    }
   ],
   "source": []
  },
  {
   "cell_type": "code",
   "execution_count": 11,
   "id": "bc4ae2a9",
   "metadata": {},
   "outputs": [
    {
     "name": "stdout",
     "output_type": "stream",
     "text": [
      "{1: {('N',): 4, ('K',): 3, ('E',): 4, ('O',): 3}, 2: {('E', 'K'): 3, ('E', 'N'): 4, ('E', 'O'): 3, ('K', 'N'): 3, ('N', 'O'): 3}, 3: {('E', 'K', 'N'): 3, ('E', 'N', 'O'): 3}}\n",
      "{K} -> {E} (conf: 1.000, supp: 0.750, lift: 1.000, conv: 0.000)\n",
      "{E} -> {K} (conf: 0.750, supp: 0.750, lift: 1.000, conv: 1.000)\n",
      "{N} -> {E} (conf: 1.000, supp: 1.000, lift: 1.000, conv: 0.000)\n",
      "{E} -> {N} (conf: 1.000, supp: 1.000, lift: 1.000, conv: 0.000)\n",
      "{O} -> {E} (conf: 1.000, supp: 0.750, lift: 1.000, conv: 0.000)\n",
      "{E} -> {O} (conf: 0.750, supp: 0.750, lift: 1.000, conv: 1.000)\n",
      "{N} -> {K} (conf: 0.750, supp: 0.750, lift: 1.000, conv: 1.000)\n",
      "{K} -> {N} (conf: 1.000, supp: 0.750, lift: 1.000, conv: 0.000)\n",
      "{O} -> {N} (conf: 1.000, supp: 0.750, lift: 1.000, conv: 0.000)\n",
      "{N} -> {O} (conf: 0.750, supp: 0.750, lift: 1.000, conv: 1.000)\n",
      "{K, N} -> {E} (conf: 1.000, supp: 0.750, lift: 1.000, conv: 0.000)\n",
      "{E, N} -> {K} (conf: 0.750, supp: 0.750, lift: 1.000, conv: 1.000)\n",
      "{E, K} -> {N} (conf: 1.000, supp: 0.750, lift: 1.000, conv: 0.000)\n",
      "{N} -> {E, K} (conf: 0.750, supp: 0.750, lift: 1.000, conv: 1.000)\n",
      "{K} -> {E, N} (conf: 1.000, supp: 0.750, lift: 1.000, conv: 0.000)\n",
      "{E} -> {K, N} (conf: 0.750, supp: 0.750, lift: 1.000, conv: 1.000)\n",
      "{N, O} -> {E} (conf: 1.000, supp: 0.750, lift: 1.000, conv: 0.000)\n",
      "{E, O} -> {N} (conf: 1.000, supp: 0.750, lift: 1.000, conv: 0.000)\n",
      "{E, N} -> {O} (conf: 0.750, supp: 0.750, lift: 1.000, conv: 1.000)\n",
      "{O} -> {E, N} (conf: 1.000, supp: 0.750, lift: 1.000, conv: 0.000)\n",
      "{N} -> {E, O} (conf: 0.750, supp: 0.750, lift: 1.000, conv: 1.000)\n",
      "{E} -> {N, O} (conf: 0.750, supp: 0.750, lift: 1.000, conv: 1.000)\n"
     ]
    }
   ],
   "source": [
    "from efficient_apriori import apriori\n",
    "transactions = [(\"S\",\"A\",\"N\",\"K\",\"E\",\"T\"),(\"M\",\"O\",\"N\",\"K\",\"E\",\"Y\"),(\"D\",\"O\",\"N\",\"K\",\"E\",\"Y\"),(\"O\",\"R\",\"A\",\"N\",\"G\",\"E\")]\n",
    "#support\n",
    "min_support = 3/len(transactions)\n",
    "\n",
    "#confidence\n",
    "min_confidence = 0\n",
    "\n",
    "#algo\n",
    "itemsets, rules = apriori(transactions, min_support = min_support, min_confidence = min_confidence)\n",
    "print(itemsets)\n",
    "\n",
    "#rules\n",
    "for rule in rules:\n",
    "    print(rule)"
   ]
  },
  {
   "cell_type": "code",
   "execution_count": null,
   "id": "f510f763",
   "metadata": {},
   "outputs": [],
   "source": [
    "    "
   ]
  },
  {
   "cell_type": "code",
   "execution_count": null,
   "id": "eaaf6cf0",
   "metadata": {},
   "outputs": [],
   "source": []
  }
 ],
 "metadata": {
  "kernelspec": {
   "display_name": "Python 3 (ipykernel)",
   "language": "python",
   "name": "python3"
  },
  "language_info": {
   "codemirror_mode": {
    "name": "ipython",
    "version": 3
   },
   "file_extension": ".py",
   "mimetype": "text/x-python",
   "name": "python",
   "nbconvert_exporter": "python",
   "pygments_lexer": "ipython3",
   "version": "3.8.8"
  }
 },
 "nbformat": 4,
 "nbformat_minor": 5
}
