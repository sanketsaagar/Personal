{
 "cells": [
  {
   "cell_type": "code",
   "execution_count": 14,
   "id": "54cbdec0",
   "metadata": {},
   "outputs": [
    {
     "name": "stdout",
     "output_type": "stream",
     "text": [
      "P value is 0.0\n",
      "Dependent (rejected)\n",
      "\n",
      "Chisquare of every row is :\n",
      " Power_divergenceResult(statistic=array([294097.23320158,  24878.57142857,   1472.72727273,   2200.        ,\n",
      "            0.        , 294097.23320158, 252572.72727273,  29498.07998416]), pvalue=array([0., 0., 0., 0., 1., 0., 0., 0.]))\n"
     ]
    }
   ],
   "source": [
    "import numpy as np\n",
    "import pandas as pd\n",
    "from scipy.stats import chi2_contingency\n",
    "from apyori import apriori\n",
    "Dataset = [\n",
    "    [1000,100,100,100000], [1000, 100,100, 10000], [1000,100,100, 1000], [1000,100,100,0], [1000,1000,1000,1000], [100,100,1000,100000], [1000,100,10000,100000],[1,1,100,10000]\n",
    "]\n",
    "stat, p, dof, expected = chi2_contingency(Dataset)\n",
    "alpha = 0.5\n",
    "print(\"P value is \"+ str(p))\n",
    "if p <= alpha:\n",
    "    print(\"Dependent (rejected)\")\n",
    "else:\n",
    "    print(\"Independent Accepted\")\n",
    "obj = np.array(Dataset).T\n",
    "print(\"\\nChisquare of every row is :\\n\",chisquare(obj))\n"
   ]
  },
  {
   "cell_type": "code",
   "execution_count": 1,
   "id": "75a85526",
   "metadata": {},
   "outputs": [
    {
     "name": "stdout",
     "output_type": "stream",
     "text": [
      "Collecting tabulate\n",
      "  Downloading tabulate-0.9.0-py3-none-any.whl (35 kB)\n",
      "Installing collected packages: tabulate\n",
      "Successfully installed tabulate-0.9.0\n",
      "Note: you may need to restart the kernel to use updated packages.\n"
     ]
    }
   ],
   "source": [
    "pip install tabulate"
   ]
  },
  {
   "cell_type": "code",
   "execution_count": 23,
   "id": "40bf9f4a",
   "metadata": {},
   "outputs": [
    {
     "data": {
      "text/plain": [
       "(array([ 10149.01390754,  10291.6434737 ,   6445.7956393 , -50710.29661419]),\n",
       " array([11238.61109246, 11095.9815263 , 14941.8293607 , 72097.92161419]))"
      ]
     },
     "execution_count": 23,
     "metadata": {},
     "output_type": "execute_result"
    }
   ],
   "source": [
    "#confidence\n",
    "import scipy.stats as st\n",
    "import numpy as np\n",
    "st.t.interval(alpha = 0.99, df = len(Dataset)-1, loc = np.mean(Dataset), scale = st.sem(Dataset))"
   ]
  },
  {
   "cell_type": "code",
   "execution_count": null,
   "id": "d0718290",
   "metadata": {},
   "outputs": [],
   "source": [
    "#cosine\n",
    "import scipy.stats as st\n",
    "import numpy as np\n",
    "def cosine(int milk, int coffee):\n",
    "    "
   ]
  }
 ],
 "metadata": {
  "kernelspec": {
   "display_name": "Python 3 (ipykernel)",
   "language": "python",
   "name": "python3"
  },
  "language_info": {
   "codemirror_mode": {
    "name": "ipython",
    "version": 3
   },
   "file_extension": ".py",
   "mimetype": "text/x-python",
   "name": "python",
   "nbconvert_exporter": "python",
   "pygments_lexer": "ipython3",
   "version": "3.8.8"
  }
 },
 "nbformat": 4,
 "nbformat_minor": 5
}
